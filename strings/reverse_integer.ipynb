{
 "cells": [
  {
   "cell_type": "markdown",
   "metadata": {},
   "source": [
    "# _Reverse Integer_\n",
    "\n",
    "[Reverse Integer](https://leetcode.com/explore/interview/card/top-interview-questions-easy/127/strings/880/) question from Leetcode's _Strings_ section of their [_Top Interview Questions_](https://leetcode.com/explore/interview/card/top-interview-questions-easy/127/strings/) problem set.\n",
    "\n",
    "**Summary**: Given a 32-bit signed integer, reverse digits of an integer.\n",
    "\n",
    "**Note**: Assume we are dealing with an environment which could only store integers within the 32-bit signed integer range: $[-2^{31}, 2^{31-1}]$. For the purpose of this problem, assume that your function returns $0$ when the reversed integer overflows.\n",
    "\n",
    "**Example 1**\n",
    "```\n",
    "Input: 123\n",
    "Output: 321\n",
    "```\n",
    "\n",
    "**Example 2**\n",
    "```\n",
    "Input: -123\n",
    "Output: -321\n",
    "```"
   ]
  },
  {
   "cell_type": "code",
   "execution_count": 1,
   "metadata": {},
   "outputs": [],
   "source": [
    "test1 = 123\n",
    "test2 = -123\n",
    "test3 = 120"
   ]
  },
  {
   "cell_type": "code",
   "execution_count": 2,
   "metadata": {},
   "outputs": [],
   "source": [
    "class Solution:\n",
    "    def reverse(self, x):\n",
    "        num = str(x) # constant time & constant space\n",
    "        if num[0] == '-':\n",
    "            num_rev = 0 - int(num[1:][::-1]) # linear time and constant space\n",
    "        else:\n",
    "            num_rev = int(num[::-1]) # linear time and constant space\n",
    "        if -(2**31) <= num_rev <= (2**31-1): \n",
    "            return num_rev\n",
    "        else:\n",
    "            return 0"
   ]
  },
  {
   "cell_type": "code",
   "execution_count": 4,
   "metadata": {},
   "outputs": [
    {
     "name": "stdout",
     "output_type": "stream",
     "text": [
      "Input: 123\tOutput: 321\n",
      "Input: -123\tOutput: -321\n",
      "Input: 120\tOutput: 21\n"
     ]
    }
   ],
   "source": [
    "solution = Solution()\n",
    "print(f'Input: {test1}\\tOutput: {solution.reverse(test1)}')\n",
    "print(f'Input: {test2}\\tOutput: {solution.reverse(test2)}')\n",
    "print(f'Input: {test3}\\tOutput: {solution.reverse(test3)}')"
   ]
  },
  {
   "cell_type": "markdown",
   "metadata": {},
   "source": [
    "## _Interpretation_\n",
    "\n",
    "Okay, so we will go through the above, line-by-line to tease out this solution to the reverse integer question. We'll also use `test1` (i.e., integer `123`) for explaining this algorithm.\n",
    "\n",
    "The first line - ```num = str(x)``` - is converting our integer `123` into a string that looks like the following: `'123'`. Now that we have this string, it gives us significantly more flexibility to modify the number. \n",
    "\n",
    "The first check we need to make is to see if, in its original form, this number was a negative or not, hence the second line: `if num[0] == '-'`.\n",
    "\n",
    "This brings us to a cool concept when dealing with strings in Python. Like a list, you can index into them! So we know that convert a negative number into a string will keep that `-` at the very front, in other words, at the `0` index. \n",
    "\n",
    "If it meets this condition, we'll do a slightly different approach in the third line: `num_rev = 0 - int(num[1:][::-1])`. This line takes all the elements of `num` - from the second index (which is equal to 1 in Python since it is zero-indexed) until the last - and reverses the order as indicated by the second bracket, `[::-1]`. What is returned here is a positive integer, but the original number was negative, so what can we do to ensure the reversed integer is negative? \n",
    "\n",
    "A quick and simple way to hack that is to subtract this reversed integer from zero! Naturally, this returns a negative number (since we are subtracting from `0`)! This now brings us to the `else` component. If the string we just made - `num` - _does not_ have a `-` at the `0` index than we can skip to the `else` condition, which is similar to the `if` statement, except now we can reverse the entire string using `num[::-1]` and then converting it to an integer type. \n",
    "\n",
    "Technically, we have a second part addresses the **\"Note\"** from above, stating an assumption that our environment can only store integers within the 32-bit signed integer range. This `if/else` check makes sure that `num_rev` lies within this range, and if it does, then it returns `num_rev`, otherwise it returns `0` (as stated in the directions).\n",
    "\n",
    "## _NEED TO ADD TIME & SPACE COMPLEXITY ANALYSIS..._"
   ]
  }
 ],
 "metadata": {
  "kernelspec": {
   "display_name": "Python 3",
   "language": "python",
   "name": "python3"
  },
  "language_info": {
   "codemirror_mode": {
    "name": "ipython",
    "version": 3
   },
   "file_extension": ".py",
   "mimetype": "text/x-python",
   "name": "python",
   "nbconvert_exporter": "python",
   "pygments_lexer": "ipython3",
   "version": "3.8.3"
  }
 },
 "nbformat": 4,
 "nbformat_minor": 4
}
