{
 "cells": [
  {
   "cell_type": "markdown",
   "metadata": {},
   "source": [
    "# _LeetCode: Valid Palindrome_\n",
    "\n",
    "[Valid Palindrome](https://leetcode.com/explore/interview/card/top-interview-questions-easy/127/strings/883/) question from Leetcode's _Strings_ section of their [_Top Interview Questions_](https://leetcode.com/explore/interview/card/top-interview-questions-easy/127/strings/) problem set.\n",
    "\n",
    "**Summary**: Given a string, determine if it is a palindrome, considering only alphanumeric characters and ignoring cases\n",
    "\n",
    "**Note**: For the purpose of this problem, we define empty strings as valid palindrome. \n",
    "\n",
    "**Example 1**\n",
    "```\n",
    "Input: 'A man, a plan, a canal: Panama'\n",
    "Output: true\n",
    "```\n",
    "\n",
    "**Example 2**\n",
    "```\n",
    "Input: 'race a car\n",
    "Output: false\n",
    "```\n",
    "\n",
    "**Constraints**: `s` consists only of printable ASCII characters."
   ]
  },
  {
   "cell_type": "markdown",
   "metadata": {},
   "source": [
    "## _Trial 1_"
   ]
  },
  {
   "cell_type": "code",
   "execution_count": 41,
   "metadata": {},
   "outputs": [],
   "source": [
    "class Solution:\n",
    "    def is_palindrome(self, s):\n",
    "        \"\"\"\n",
    "        s: type str\n",
    "        returns: bool\n",
    "        \"\"\"\n",
    "        if s == '': # O(1)\n",
    "            return True\n",
    "        \n",
    "        s = re.sub(r'[^a-zA-Z0-9]', '', s).lower() # O(n)\n",
    "        \n",
    "        return s == s[::-1] # O(n)"
   ]
  },
  {
   "cell_type": "code",
   "execution_count": 42,
   "metadata": {},
   "outputs": [
    {
     "data": {
      "text/plain": [
       "True"
      ]
     },
     "execution_count": 42,
     "metadata": {},
     "output_type": "execute_result"
    }
   ],
   "source": [
    "s1 = 'A man, a plan, a canal: Panama'\n",
    "\n",
    "solution = Solution()\n",
    "solution.is_palindrome(s1)"
   ]
  },
  {
   "cell_type": "code",
   "execution_count": 43,
   "metadata": {},
   "outputs": [
    {
     "data": {
      "text/plain": [
       "True"
      ]
     },
     "execution_count": 43,
     "metadata": {},
     "output_type": "execute_result"
    }
   ],
   "source": [
    "s2 = 'ab_a'\n",
    "\n",
    "solution.is_palindrome(s2)"
   ]
  },
  {
   "cell_type": "markdown",
   "metadata": {},
   "source": [
    "## _Trial 2_"
   ]
  },
  {
   "cell_type": "code",
   "execution_count": 44,
   "metadata": {},
   "outputs": [],
   "source": [
    "class Solution:\n",
    "    def is_palindrome(self, s):\n",
    "        \"\"\"\n",
    "        s: type str\n",
    "        returns: bool\n",
    "        \"\"\"\n",
    "        # sanity check -- if empty string, return valid palindrome (see above)\n",
    "        if s == '': \n",
    "            return True\n",
    "        \n",
    "        s = ''.join(c for c in s if c.isalnum()).lower()\n",
    "        \n",
    "        return s == s[::-1]"
   ]
  },
  {
   "cell_type": "code",
   "execution_count": 45,
   "metadata": {},
   "outputs": [
    {
     "data": {
      "text/plain": [
       "True"
      ]
     },
     "execution_count": 45,
     "metadata": {},
     "output_type": "execute_result"
    }
   ],
   "source": [
    "s1 = 'A man, a plan, a canal: Panama'\n",
    "\n",
    "solution = Solution()\n",
    "solution.is_palindrome(s1)"
   ]
  },
  {
   "cell_type": "code",
   "execution_count": 46,
   "metadata": {},
   "outputs": [
    {
     "data": {
      "text/plain": [
       "True"
      ]
     },
     "execution_count": 46,
     "metadata": {},
     "output_type": "execute_result"
    }
   ],
   "source": [
    "s2 = 'ab_a'\n",
    "\n",
    "solution.is_palindrome(s2)"
   ]
  },
  {
   "cell_type": "markdown",
   "metadata": {},
   "source": [
    "## _Trial 3_"
   ]
  },
  {
   "cell_type": "code",
   "execution_count": 47,
   "metadata": {},
   "outputs": [],
   "source": [
    "class Solution:\n",
    "    def is_palindrome(self, s):\n",
    "        \"\"\"\n",
    "        s: type str\n",
    "        returns: bool\n",
    "        \"\"\"\n",
    "        # create pointers\n",
    "        i = 0 \n",
    "        j = len(s) - 1\n",
    "        s = s.lower()\n",
    "        \n",
    "        # while the left pointer is less than the right\n",
    "        while i < j:\n",
    "            # while left is less than right, and character is not alphanumeric\n",
    "            while i < j and not s[i].isalnum():\n",
    "                # increase left pointer\n",
    "                i += 1\n",
    "            # while left is less than right, and character is not alphanumeric\n",
    "            while i < j and not s[j].isalnum():\n",
    "                # decrease right pointer\n",
    "                j -= 1\n",
    "            # if character at left and right pointer alphanumeric and not equal\n",
    "            if s[i].isalnum() and s[j].isalnum() and s[i] != s[j]:\n",
    "                # string is not a palindrome\n",
    "                return False\n",
    "            # keep increase/decreasing pointers\n",
    "            i += 1\n",
    "            j -= 1\n",
    "        return True"
   ]
  },
  {
   "cell_type": "code",
   "execution_count": 48,
   "metadata": {},
   "outputs": [
    {
     "data": {
      "text/plain": [
       "True"
      ]
     },
     "execution_count": 48,
     "metadata": {},
     "output_type": "execute_result"
    }
   ],
   "source": [
    "s1 = 'A man, a plan, a canal: Panama'\n",
    "\n",
    "solution = Solution()\n",
    "solution.is_palindrome(s1)"
   ]
  },
  {
   "cell_type": "code",
   "execution_count": 49,
   "metadata": {},
   "outputs": [
    {
     "data": {
      "text/plain": [
       "True"
      ]
     },
     "execution_count": 49,
     "metadata": {},
     "output_type": "execute_result"
    }
   ],
   "source": [
    "s2 = 'ab_a'\n",
    "\n",
    "solution.is_palindrome(s2)"
   ]
  },
  {
   "cell_type": "code",
   "execution_count": null,
   "metadata": {},
   "outputs": [],
   "source": []
  }
 ],
 "metadata": {
  "kernelspec": {
   "display_name": "Python 3",
   "language": "python",
   "name": "python3"
  },
  "language_info": {
   "codemirror_mode": {
    "name": "ipython",
    "version": 3
   },
   "file_extension": ".py",
   "mimetype": "text/x-python",
   "name": "python",
   "nbconvert_exporter": "python",
   "pygments_lexer": "ipython3",
   "version": "3.6.10"
  }
 },
 "nbformat": 4,
 "nbformat_minor": 4
}
