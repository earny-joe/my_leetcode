{
 "cells": [
  {
   "cell_type": "markdown",
   "metadata": {},
   "source": [
    "# _LeetCode: First Unique Character in a String_\n",
    "\n",
    "[First Unique Character in a String](https://leetcode.com/explore/interview/card/top-interview-questions-easy/127/strings/880/) question from Leetcode's _Strings_ section of their [_Top Interview Questions_](https://leetcode.com/explore/interview/card/top-interview-questions-easy/127/strings/) problem set.\n",
    "\n",
    "**Summary**: Given a string, find the first non-repeating character in it and return its index. If it doesn't exist, return -1.\n",
    "\n",
    "**Example 1**\n",
    "```\n",
    "s = 'leetcode'\n",
    "return 0.\n",
    "```\n",
    "\n",
    "**Note**: You may assume the string contains only lowercase English letters."
   ]
  },
  {
   "cell_type": "markdown",
   "metadata": {},
   "source": [
    "## _Trial 1_"
   ]
  },
  {
   "cell_type": "code",
   "execution_count": 8,
   "metadata": {},
   "outputs": [],
   "source": [
    "class Solution:\n",
    "    def first_unique_char(self, s):\n",
    "        string_list = list(s)\n",
    "        i = 0 \n",
    "        \n",
    "        while i <= len(string_list) - 2:\n",
    "            if string_list[i] == string_list[i + 1]:\n",
    "                i += 1\n",
    "                continue\n",
    "            elif string_list[i] != string_list[i + 1]:\n",
    "                return i\n",
    "            else:\n",
    "                return - 1"
   ]
  },
  {
   "cell_type": "code",
   "execution_count": 9,
   "metadata": {},
   "outputs": [],
   "source": [
    "s1 = 'eewwkkiiooll'"
   ]
  },
  {
   "cell_type": "code",
   "execution_count": 10,
   "metadata": {},
   "outputs": [
    {
     "data": {
      "text/plain": [
       "1"
      ]
     },
     "execution_count": 10,
     "metadata": {},
     "output_type": "execute_result"
    }
   ],
   "source": [
    "solution = Solution()\n",
    "solution.first_unique_char(s1)"
   ]
  },
  {
   "cell_type": "markdown",
   "metadata": {},
   "source": [
    "## _Interpretation_\n",
    "\n",
    "The above solution is incorrect. Notice how it returns `1`, which is `e`, a repeating character. This is because it doesn't take into account the previous character. To fix this algorithm, it would need to compare the current character at index `i` with the character just before it and right after it. "
   ]
  },
  {
   "cell_type": "markdown",
   "metadata": {},
   "source": [
    "## _Trial 2_"
   ]
  },
  {
   "cell_type": "code",
   "execution_count": 30,
   "metadata": {},
   "outputs": [],
   "source": [
    "s1 = 'leetcode'\n",
    "s2 = 'loveleetcode'\n",
    "s3 = 'ddjjkklloossppssqq'\n",
    "s4 = 'joseph'"
   ]
  },
  {
   "cell_type": "code",
   "execution_count": 31,
   "metadata": {},
   "outputs": [],
   "source": [
    "from collections import Counter\n",
    "\n",
    "class Solution:\n",
    "    def first_unique_char(self, s):\n",
    "        # build hash map : character and how often it appears\n",
    "        count = Counter(s) # O(n)\n",
    "        \n",
    "        # find the index\n",
    "        for idx, ch in enumerate(s): # O(n)\n",
    "            if count[ch] == 1: # O(1)\n",
    "                return idx\n",
    "        return -1"
   ]
  },
  {
   "cell_type": "code",
   "execution_count": 32,
   "metadata": {},
   "outputs": [
    {
     "name": "stdout",
     "output_type": "stream",
     "text": [
      "0\n",
      "2\n",
      "-1\n",
      "0\n"
     ]
    }
   ],
   "source": [
    "solution = Solution()\n",
    "print(solution.first_unique_char(s1))\n",
    "print(solution.first_unique_char(s2))\n",
    "print(solution.first_unique_char(s3))\n",
    "print(solution.first_unique_char(s4))"
   ]
  },
  {
   "cell_type": "markdown",
   "metadata": {},
   "source": [
    "## _Interpretation_\n",
    "\n",
    "Let's now assess the time complexity of the algorithm in `Trial 2`, line-by-line.\n",
    "\n",
    "- Line 1: using `Counter` from `collections` standard library, we create a hash map of the number of times each character appears in a string --> $O(n)$\n",
    "- Line 2-4: we're going to enumerate through the string, and if a given character's - `ch` - value in our `count` Counter object is equal to 1, return the index - `idx` - of that character in the given string `s` --> $O(n)$\n",
    "- Line 5: if none of the characters are unique, return `-1`\n",
    "\n",
    "From our assessment of this function, it looks like this algorithm's time complexity is going to be $O(n)$. The _space complexity_ is interesting because even though we are essentially storing an extra dictionary with the counts, the most characters that are going to be stored is 26 (because we are only working with lowercase English letters). The extra space utilized is limited, and doesn't grow with the size of the input, which means that the space complexity in this case is going to be constant, $O(1)$.\n",
    "\n",
    "In summary...\n",
    "- Time complexity: $O(n)$\n",
    "- Space complexity: $O(1)$"
   ]
  }
 ],
 "metadata": {
  "kernelspec": {
   "display_name": "Python 3",
   "language": "python",
   "name": "python3"
  },
  "language_info": {
   "codemirror_mode": {
    "name": "ipython",
    "version": 3
   },
   "file_extension": ".py",
   "mimetype": "text/x-python",
   "name": "python",
   "nbconvert_exporter": "python",
   "pygments_lexer": "ipython3",
   "version": "3.6.10"
  }
 },
 "nbformat": 4,
 "nbformat_minor": 4
}
