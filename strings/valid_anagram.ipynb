{
 "cells": [
  {
   "cell_type": "markdown",
   "metadata": {},
   "source": [
    "# _LeetCode: Valid Anagram_\n",
    "\n",
    "[Valid Anagram](https://leetcode.com/explore/interview/card/top-interview-questions-easy/127/strings/882/) question from Leetcode's _Strings_ section of their [_Top Interview Questions_](https://leetcode.com/explore/interview/card/top-interview-questions-easy/127/strings/) problem set.\n",
    "\n",
    "**Summary**: Given two strings `s` and `t`, write a function to determine if `t` is an anagram of `s`. \n",
    "\n",
    "**Example 1**\n",
    "```\n",
    "Input: s = 'anagram', t = 'nagaram'\n",
    "Output: true\n",
    "```\n",
    "\n",
    "**Example 2**\n",
    "```\n",
    "Input: s = 'rat', t = 'car'\n",
    "Output: false\n",
    "```\n",
    "\n",
    "**Note**: You may assume the string contains only lowercase letters.\n",
    "\n",
    "**Follow up**: What if the inputs contain unicode characters? How would you adapt your solution to such a case?"
   ]
  },
  {
   "cell_type": "markdown",
   "metadata": {},
   "source": [
    "## _Trial 1_"
   ]
  },
  {
   "cell_type": "code",
   "execution_count": 5,
   "metadata": {},
   "outputs": [],
   "source": [
    "class Solution:\n",
    "    def is_anagram(self, s, t):\n",
    "        \"\"\"\n",
    "        s: type str\n",
    "        t: type str\n",
    "        returns: bool\n",
    "        \"\"\"\n",
    "        # sanity check --> if lengths are different, impossible to be anagram\n",
    "        if len(s) != len(t): # O(1)\n",
    "            return False\n",
    "        \n",
    "        sorted_s = ''.join(sorted(s)) # O(n log n)\n",
    "        sorted_t = ''.join(sorted(t)) # O(n log n)\n",
    "        \n",
    "        return sorted_s == sorted_t # O(n)"
   ]
  },
  {
   "cell_type": "code",
   "execution_count": 6,
   "metadata": {},
   "outputs": [
    {
     "data": {
      "text/plain": [
       "False"
      ]
     },
     "execution_count": 6,
     "metadata": {},
     "output_type": "execute_result"
    }
   ],
   "source": [
    "s = 'rat'\n",
    "t = 'car'\n",
    "\n",
    "solution = Solution()\n",
    "solution.is_anagram(s, t)"
   ]
  },
  {
   "cell_type": "code",
   "execution_count": 7,
   "metadata": {},
   "outputs": [
    {
     "data": {
      "text/plain": [
       "True"
      ]
     },
     "execution_count": 7,
     "metadata": {},
     "output_type": "execute_result"
    }
   ],
   "source": [
    "s = 'anagram'\n",
    "t = 'nagaram'\n",
    "\n",
    "solution.is_anagram(s, t)"
   ]
  },
  {
   "cell_type": "markdown",
   "metadata": {},
   "source": [
    "## _Interpretation_\n",
    "\n",
    "Ok, so let's go line-by-line through `Trial 1`. The first line is a sanity check; if `s` and `t` have two different lengths, they can't be anagrams. So if the statement `len(s) != len(t)` is `True`, then the algorithm will return `False`. \n",
    "\n",
    "If the lengths are the same, we move to the next two lines. These lines do the same thing, just for the different strings. We pass in the string (either `s` or `t`) into `sorted()`. What `sorted` does is take our string, and iterates through it. Essentially, the string becomes a list of characters, with characters that are earlier in the alphabet being put further towards the front of the list, and vice versa for later characters. For example, in the string `car`, we essentially have `[c, a, r]`. According to their order in the alphabet, the character `a` will be in the first slot, `c` in the second, and `r` in the third. \n",
    "\n",
    "But because we now have a list of characters, we need to rejoin them into a string, which `''.join` accomplishes. To continue with the `car` example, it'll first sort the characters into the list `[a, c, r]` and then join each of the characters from the list, without any spaces, into the string `acr`. \n",
    "\n",
    "We can apply this strategy to both strings, `s` and `t`, and then compare them. If the sorted strings are the same, the algorithm will return `True`; else, it'll return `False`.\n",
    "\n",
    "For this last part, we'll review the time and space complexity of the algorithm. If you look at the comments, you can see that comparing the lengths is constant time, and the sorting and subsequent joining of the sorted string is $O(n * log(n))$ time. Then the comparison between the two sorted strings is constant time, $O(n)$. So, where is the bottleneck? The sorting and joining component, which means the time complexity of this algorithm will be $O(n * log(n))$, which isn't great but not horrible either.\n",
    "\n",
    "Lastly, we are storing two extra strings - `sorted_s` and `sorted_t` - outside of the input and output. The space complexity of storing a new string of length n is $O(n)$. We have two of these, so technically, the space complexity would be $O(n + n)$, but because this doesn't have a considerable effect overall, we can also express it as $O(n)$.\n",
    "\n",
    "In summary:\n",
    "- time complexity --> $O(n * log(n))$\n",
    "- space complexity --> $O(n)$"
   ]
  },
  {
   "cell_type": "markdown",
   "metadata": {},
   "source": [
    "## _Trial 2_"
   ]
  },
  {
   "cell_type": "code",
   "execution_count": 13,
   "metadata": {},
   "outputs": [],
   "source": [
    "from collections import Counter\n",
    "\n",
    "class Solution:\n",
    "    def is_anagram(self, s, t):\n",
    "        \"\"\"\n",
    "        s: type str\n",
    "        t: type str\n",
    "        returns: bool\n",
    "        \"\"\"\n",
    "        # sanity check\n",
    "        if len(s) != len(t): # O(1)\n",
    "            return False\n",
    "        \n",
    "        s_count = Counter(s) # O(n)\n",
    "        t_count = Counter(t) # O(n)\n",
    "        \n",
    "        return s_count == t_count # O(n)"
   ]
  },
  {
   "cell_type": "code",
   "execution_count": 14,
   "metadata": {},
   "outputs": [
    {
     "data": {
      "text/plain": [
       "False"
      ]
     },
     "execution_count": 14,
     "metadata": {},
     "output_type": "execute_result"
    }
   ],
   "source": [
    "s = 'rat'\n",
    "t = 'car'\n",
    "\n",
    "solution = Solution()\n",
    "solution.is_anagram(s, t)"
   ]
  },
  {
   "cell_type": "code",
   "execution_count": 15,
   "metadata": {},
   "outputs": [
    {
     "data": {
      "text/plain": [
       "True"
      ]
     },
     "execution_count": 15,
     "metadata": {},
     "output_type": "execute_result"
    }
   ],
   "source": [
    "s = 'anagram'\n",
    "t = 'nagaram'\n",
    "\n",
    "solution = Solution()\n",
    "solution.is_anagram(s, t)"
   ]
  },
  {
   "cell_type": "code",
   "execution_count": 16,
   "metadata": {},
   "outputs": [
    {
     "data": {
      "text/plain": [
       "True"
      ]
     },
     "execution_count": 16,
     "metadata": {},
     "output_type": "execute_result"
    }
   ],
   "source": [
    "s = 'satin'\n",
    "t = 'stain'\n",
    "\n",
    "solution = Solution()\n",
    "solution.is_anagram(s, t)"
   ]
  },
  {
   "cell_type": "markdown",
   "metadata": {},
   "source": [
    "## _Interpretation_\n",
    "\n",
    "Similar to our first algorithm, we do the sanity check on the length of the two input strings. Then, instead of sorting and joining the strings, we create two `Counter` objects for each string. In this case, our `Counter`s iterate through each string, storing the characters as keys, and the number of occurrences of that particular character as the value. In essence, these are dictionary types, representing the counts of characters in a given string. \n",
    "\n",
    "Now, we have to iterate through the entire string to get the correct counts, which means that our time complexity here is $O(n)$ with `n` representing the string's length. Lastly, we have to compare the keys in each dictionary (and their respective values) to each other, which means the time complexity here is also $O(n)$. And since $O(n)$ is our highest time complexity, this also represents the algorithm's time complexity.\n",
    "\n",
    "For space complexity, we are storing two extra dictionary objects (i.e., the `Counter` for each string). However, since we are only using lowercase English letters, of which there are only 26, our space complexity becomes constant, $O(1)$. \n",
    "\n",
    "In summary:\n",
    "- time complexity --> $O(n)$\n",
    "- space complexity --> $O(1)$"
   ]
  }
 ],
 "metadata": {
  "kernelspec": {
   "display_name": "Python 3",
   "language": "python",
   "name": "python3"
  },
  "language_info": {
   "codemirror_mode": {
    "name": "ipython",
    "version": 3
   },
   "file_extension": ".py",
   "mimetype": "text/x-python",
   "name": "python",
   "nbconvert_exporter": "python",
   "pygments_lexer": "ipython3",
   "version": "3.6.10"
  }
 },
 "nbformat": 4,
 "nbformat_minor": 4
}
