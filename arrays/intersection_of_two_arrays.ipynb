{
 "cells": [
  {
   "cell_type": "markdown",
   "metadata": {},
   "source": [
    "# _LeetCode: Intersection of Two Arrays II_\n",
    "\n",
    "**Info**: Given two arrays, write a function to compute their intersection.\n",
    "\n",
    "**Example 1**:\n",
    "```\n",
    "Input: nums1 = [1,2,2,1], nums2 = [2,2]\n",
    "Output: [2,2]\n",
    "```\n",
    "\n",
    "**Example 2**:\n",
    "```\n",
    "Input: nums1 = [4,9,5], nums2 = [9,4,9,8,4]\n",
    "Output: [4,9]\n",
    "```\n",
    "\n",
    "**Note**:\n",
    "- each element in the result should appear as many times as it shows in both arrays\n",
    "- the result can be in any order\n",
    "\n",
    "**Follow-up**:\n",
    "- What if the given array is already sorted? How would you optimize your algorithm?"
   ]
  },
  {
   "cell_type": "markdown",
   "metadata": {},
   "source": [
    "## _Trial 1_"
   ]
  },
  {
   "cell_type": "code",
   "execution_count": 47,
   "metadata": {},
   "outputs": [],
   "source": [
    "test1 = [1, 2, 2, 1]\n",
    "test2 = [2, 2]"
   ]
  },
  {
   "cell_type": "code",
   "execution_count": 48,
   "metadata": {},
   "outputs": [],
   "source": [
    "from collections import Counter\n",
    "\n",
    "class Solution:\n",
    "    def intersect(self, nums1, nums2):\n",
    "        # gather Counter dict of numbers in each list\n",
    "        nums1_values = set(Counter(nums1).keys())\n",
    "        nums2_values = set(Counter(nums2).keys())\n",
    "        # gather numbers that are in both lists\n",
    "        nums_values = nums1_values.intersection(nums2_values)\n",
    "        \n",
    "        # return a sorted list of the overlapping variables\n",
    "        return sorted(nums_values)"
   ]
  },
  {
   "cell_type": "code",
   "execution_count": 49,
   "metadata": {},
   "outputs": [
    {
     "name": "stdout",
     "output_type": "stream",
     "text": [
      "[2]\n"
     ]
    }
   ],
   "source": [
    "sol = Solution()\n",
    "print(sol.intersect(test1, test2))"
   ]
  },
  {
   "cell_type": "code",
   "execution_count": 50,
   "metadata": {},
   "outputs": [],
   "source": [
    "nums1 = [4, 9, 5]\n",
    "nums2 = [9, 4, 9, 8, 4]"
   ]
  },
  {
   "cell_type": "code",
   "execution_count": 51,
   "metadata": {},
   "outputs": [
    {
     "data": {
      "text/plain": [
       "[4, 9]"
      ]
     },
     "execution_count": 51,
     "metadata": {},
     "output_type": "execute_result"
    }
   ],
   "source": [
    "sol = Solution()\n",
    "sol.intersect(nums1, nums2)"
   ]
  },
  {
   "cell_type": "markdown",
   "metadata": {},
   "source": [
    "## _Interpretation_\n",
    "\n",
    "This first \"brute force\" method is a failure. The answer needs to include **all** instances where there is the same number in both lists. By using a set, we are eliminating duplicates, which means all the instances won't be included, thus return the incorrect number of overlaps."
   ]
  },
  {
   "cell_type": "markdown",
   "metadata": {},
   "source": [
    "## _Trial 2_"
   ]
  },
  {
   "cell_type": "code",
   "execution_count": 56,
   "metadata": {},
   "outputs": [],
   "source": [
    "test1 = [1, 2, 2, 1]\n",
    "test2 = [2, 2]"
   ]
  },
  {
   "cell_type": "code",
   "execution_count": 57,
   "metadata": {},
   "outputs": [],
   "source": [
    "nums1 = [4, 9, 5]\n",
    "nums2 = [9, 4, 9, 8, 4]"
   ]
  },
  {
   "cell_type": "code",
   "execution_count": 58,
   "metadata": {},
   "outputs": [],
   "source": [
    "class Solution:\n",
    "    def intersect(self, nums1, nums2):\n",
    "        \"\"\"\n",
    "        Give two list of integers, find every instance where both lists \n",
    "        contain the same integer\n",
    "        \"\"\"\n",
    "        nums_both = []\n",
    "        \n",
    "        # loop through all the values of the first list\n",
    "        for num in nums1:\n",
    "            # if num is in nums2...\n",
    "            if num in nums2:\n",
    "                # append value to nums_both list\n",
    "                nums_both.append(num)\n",
    "                \n",
    "        return nums_both"
   ]
  },
  {
   "cell_type": "code",
   "execution_count": 59,
   "metadata": {},
   "outputs": [
    {
     "data": {
      "text/plain": [
       "[2, 2]"
      ]
     },
     "execution_count": 59,
     "metadata": {},
     "output_type": "execute_result"
    }
   ],
   "source": [
    "solution = Solution()\n",
    "solution.intersect(test1, test2)"
   ]
  },
  {
   "cell_type": "markdown",
   "metadata": {},
   "source": [
    "## _Interpretation_\n",
    "\n",
    "Let's go line by line through the _time complexity_ of the above algorithm.\n",
    "\n",
    "- Line 1: init an empty list --> $O(1)$\n",
    "- Line 2: for loop iterating through all items of `nums1` --> $O(n)$\n",
    "- Line 3: check to see if value is in `nums2` --> $O(n)$\n",
    "- Line 4: append value to the end of `nums_both` list --> $O(1)$\n",
    "\n",
    "Where things getting interesting though is that line 3 is inside the `for` loop initiated in line 2. Thus it becomes $O(n)$ * $O(n)$, which is equal to $O(n^2)$. This is not particularly good.\n",
    "\n",
    "Now, let's check the _space complexity_; namely, did we use any space in-between the inputs and outputs? Yes, we did. `nums_both` is a list that we append to is a number is in both `nums1` and `nums2`. In the worst case, the number of values in common between the two lists would be every number (i.e. they were the same list). This means that in the worst-case, the extra space needed would be $O(n)$ with $n$ representing all the numbers in a list.\n",
    "\n",
    "In summary, the time complexity of this algorithm is $O(n)$ and the space complexity of this algorithm is also $O(n)$."
   ]
  },
  {
   "cell_type": "markdown",
   "metadata": {},
   "source": [
    "## _Trial 3_"
   ]
  },
  {
   "cell_type": "code",
   "execution_count": 65,
   "metadata": {},
   "outputs": [],
   "source": [
    "from collections import Counter\n",
    "\n",
    "class Solution:\n",
    "    def intersect(self, nums1, nums2):\n",
    "        \"\"\"\n",
    "        :type nums1: List[int]\n",
    "        :type nums2: List[int]\n",
    "        :rtype: List[int]\n",
    "        \"\"\"\n",
    "        c1, c2 = Counter(nums1), Counter(nums2) # O(n)\n",
    "        result = [] # O(1)\n",
    "        for k1 in c1: # O(n)\n",
    "            if c2.get(k1): # O(1)\n",
    "                rf = min(c1[k1], c2[k1]) # O(1)\n",
    "                print(f'rf: {rf}')\n",
    "                result.extend([k1] * rf) \n",
    "                print(f'result: {result}') # O(n)\n",
    "        \n",
    "        return result"
   ]
  },
  {
   "cell_type": "code",
   "execution_count": 66,
   "metadata": {},
   "outputs": [
    {
     "name": "stdout",
     "output_type": "stream",
     "text": [
      "rf: 2\n",
      "result: [2, 2]\n"
     ]
    },
    {
     "data": {
      "text/plain": [
       "[2, 2]"
      ]
     },
     "execution_count": 66,
     "metadata": {},
     "output_type": "execute_result"
    }
   ],
   "source": [
    "solution = Solution()\n",
    "solution.intersect(test1, test2)"
   ]
  },
  {
   "cell_type": "code",
   "execution_count": 67,
   "metadata": {},
   "outputs": [
    {
     "name": "stdout",
     "output_type": "stream",
     "text": [
      "rf: 1\n",
      "result: [2]\n"
     ]
    },
    {
     "data": {
      "text/plain": [
       "[2]"
      ]
     },
     "execution_count": 67,
     "metadata": {},
     "output_type": "execute_result"
    }
   ],
   "source": [
    "nums1 = [1, 2, 2, 1]\n",
    "nums2 = [2]\n",
    "\n",
    "solution.intersect(nums1, nums2)"
   ]
  },
  {
   "cell_type": "markdown",
   "metadata": {},
   "source": [
    "## _Interpretation_\n",
    "\n",
    "Let's go line-by-line through the _time complexity_ of the `Trial 3` algorithm:\n",
    "\n",
    "- Line 1: create `Counter` object for `nums1` and `nums2` --> The time complexity of constructing a dictionary is $O(n)$ and since we are doing this twice, it is technically $O(n x m)$, where n is the length of our first input list and m is the length of the second input list. \n",
    "- Line 2: init an empty list to store keys that are in both lists --> The time complexity of initializing a list is constant, $O(1)$.\n",
    "- Line 3: loop through all the keys in `c1` Counter object --> The time complexity of iterating through a dictionary is $O(n)$\n",
    "- Line 4: if you can get value as key in `c2`... --> The time complexity for getting a key value in a dictionary is $O(1)$\n",
    "- Line 5: get the minimum value of that key in both Counters, `c1` and `c2` --> The time complexity of retrieving the minimum value between two numbers is constant, $O(1)$\n",
    "    - Remember: a counter object contains the item as the key, and then records how many times that that particular item appears\n",
    "    - So the counter of a simple list of `[1, 2, 2]` would be `{1: 1, 2: 2}` meaning that there was one instance of value `1` and two instances of value `2`. \n",
    "    - So why get the minimum? Let's use the list above and compare it to another list, `[1, 2]`. Now both lists have the value `2` but the first list has two instances while the second list only has one. By taking the minimum, we are counting only the number of instances a particular value that appears in both lists.\n",
    "- Line 6: extend `result` by minimum number of instances of a particlar key that appeared in both lists. --> The time complexity of extending a list is $O(n)$.\n",
    "    - `extend` can add multiple elements to a list (which we need in case the minimum is greater than 1\n",
    "- Line 7: return our list `result` containing the matches in `nums1` and `nums2`\n",
    "\n",
    "So, in regards to time complexity, our `for` loop is going to determine this algorithms run time. We know the `for` loop is $O(n)$ and since we have another $O(n)$ component when we extend the `result` list, we have to multiply these two together (this is what you have to do with nested loops). So $O(n)$ * $O(n)$ is equal to $O(n^2)$. So the time complexity of this particular algorithm is going to be $O(n^2)$.\n",
    "\n",
    "Next, let's take a look at _space complexity_, which has to do with how much extra space we are using in-between the input and output. In this case, we are storing an extra list - `result` - which could potentially be as long as our input lists (if they happen to be the same exact list). This means the algorithm is $O(n)$ when it comes to space complexity. "
   ]
  }
 ],
 "metadata": {
  "kernelspec": {
   "display_name": "Python 3",
   "language": "python",
   "name": "python3"
  },
  "language_info": {
   "codemirror_mode": {
    "name": "ipython",
    "version": 3
   },
   "file_extension": ".py",
   "mimetype": "text/x-python",
   "name": "python",
   "nbconvert_exporter": "python",
   "pygments_lexer": "ipython3",
   "version": "3.6.10"
  }
 },
 "nbformat": 4,
 "nbformat_minor": 4
}
