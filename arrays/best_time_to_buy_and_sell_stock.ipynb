{
 "cells": [
  {
   "cell_type": "markdown",
   "metadata": {},
   "source": [
    "# _Best Time to Buy and Sell Stock II_ \n",
    "\n",
    "This notebook is an in-depth investigation of the [Best Time to Buy and Sell Stock II](https://leetcode.com/explore/interview/card/top-interview-questions-easy/92/array/564/) question on Leetcode. Below is the description of the problem:\n",
    "\n",
    "_Say you have an array `prices` for which the $i$th element is the price of a given stock on day $i$. Design an algorithm to find the maximum profit. You may complete as many transactions as you like (i.e., buy one and sell one share of the stock multiple times._\n",
    "\n",
    "Additionally, here is an example of an input, and what should be the output with an explanation.\n",
    "\n",
    "```\n",
    "Input: [7,1,5,3,6,4]\n",
    "Output: 7\n",
    "Explanation: Buy on day 2 (price = 1) and sell on day 3 (price = 5), profit = 5-1 = 4. Then buy on day 4 (price = 3) and sell on day 5 (price = 6), profit = 6-3 = 3.\n",
    "```\n",
    "\n",
    "So the example above works using the valley/peak concept. essentially works on the concept of comparing the current day's price with yesterday's price, and if the yesterday's price is higher than today's price, it'll buy the stock. But if yesterday's price is lower , this particular algorithm will buy the stock. If It continues to do this for each day input. "
   ]
  },
  {
   "cell_type": "code",
   "execution_count": 48,
   "metadata": {},
   "outputs": [],
   "source": [
    "class Solution:\n",
    "    def max_profit(self, prices):\n",
    "        \"\"\"\n",
    "        Find the maximum profit for an array of prices\n",
    "        \"\"\"\n",
    "        # init variable to store profit (i.e. a counter)\n",
    "        max_profit = 0\n",
    "        \n",
    "        # work through every index of prices, starting at the second index\n",
    "        for i in range(1, len(prices) - 1):\n",
    "            # if current day's price is less than tomorrow's\n",
    "            if prices[i] < prices[i + 1]:\n",
    "                print(f'Selling at: {prices[i + 1]}\\t Bought at: {prices[i]}')\n",
    "                # sell the stock, and store profit into profit counter\n",
    "                max_profit += prices[i + 1] - prices[i]\n",
    "                print(f'New profit: {max_profit}\\n')\n",
    "        \n",
    "        print(f'Reached the end of the array, current max profit:\\t{max_profit}')\n",
    "        return max_profit"
   ]
  },
  {
   "cell_type": "code",
   "execution_count": 49,
   "metadata": {},
   "outputs": [
    {
     "name": "stdout",
     "output_type": "stream",
     "text": [
      "Selling at: 5\t Bought at: 1\n",
      "New profit: 4\n",
      "\n",
      "Selling at: 6\t Bought at: 3\n",
      "New profit: 7\n",
      "\n",
      "Reached the end of the array, current max profit:\t7\n"
     ]
    },
    {
     "data": {
      "text/plain": [
       "7"
      ]
     },
     "execution_count": 49,
     "metadata": {},
     "output_type": "execute_result"
    }
   ],
   "source": [
    "# example 1\n",
    "prices = [7,1,5,3,6,4]\n",
    "solution = Solution()\n",
    "solution.max_profit(prices)"
   ]
  },
  {
   "cell_type": "code",
   "execution_count": 41,
   "metadata": {},
   "outputs": [
    {
     "name": "stdout",
     "output_type": "stream",
     "text": [
      "Selling at: 2\t Bought at: 1\n",
      "New profit: 1\n",
      "\n",
      "Selling at: 3\t Bought at: 2\n",
      "New profit: 2\n",
      "\n",
      "Selling at: 4\t Bought at: 3\n",
      "New profit: 3\n",
      "\n",
      "Selling at: 5\t Bought at: 4\n",
      "New profit: 4\n",
      "\n",
      "Reached the end of the array, current max profit:\t4\n"
     ]
    },
    {
     "data": {
      "text/plain": [
       "4"
      ]
     },
     "execution_count": 41,
     "metadata": {},
     "output_type": "execute_result"
    }
   ],
   "source": [
    "# example 2\n",
    "prices = [1, 2, 3, 4, 5]\n",
    "solution = Solution()\n",
    "solution.max_profit(prices)"
   ]
  },
  {
   "cell_type": "code",
   "execution_count": 42,
   "metadata": {},
   "outputs": [
    {
     "name": "stdout",
     "output_type": "stream",
     "text": [
      "Reached the end of the array, current max profit:\t0\n"
     ]
    },
    {
     "data": {
      "text/plain": [
       "0"
      ]
     },
     "execution_count": 42,
     "metadata": {},
     "output_type": "execute_result"
    }
   ],
   "source": [
    "# example 3\n",
    "prices = [7, 6, 4, 3, 1]\n",
    "solution = Solution()\n",
    "solution.max_profit(prices)"
   ]
  },
  {
   "cell_type": "markdown",
   "metadata": {},
   "source": [
    "## _Interpretation_\n",
    "\n",
    "This approach essentially adds all positive slopes. Every time tomorrow's price is higher than today's price, we will buy it today and sell it tomorrow. \n",
    "\n",
    "We are only taking one pass through our `prices` array, which means the time complexity will be: $O(n)$ (i.e., it'll grow linearly with the size of the input data)\n",
    "\n",
    "Regarding the extra space, we're going to use, we are only storing one variable, and updating if the condition of tomorrow's price being higher than today's price is met. We will then update it by the difference in tomorrow's price and today's price. Because a variable is constant space, the space complexity is $O(1)$ (i.e., will always execute in the same space)."
   ]
  }
 ],
 "metadata": {
  "kernelspec": {
   "display_name": "Python 3",
   "language": "python",
   "name": "python3"
  },
  "language_info": {
   "codemirror_mode": {
    "name": "ipython",
    "version": 3
   },
   "file_extension": ".py",
   "mimetype": "text/x-python",
   "name": "python",
   "nbconvert_exporter": "python",
   "pygments_lexer": "ipython3",
   "version": "3.6.10"
  }
 },
 "nbformat": 4,
 "nbformat_minor": 4
}
