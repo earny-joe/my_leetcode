{
 "cells": [
  {
   "cell_type": "markdown",
   "metadata": {},
   "source": [
    "# _Remove Duplicates from Sorted Array_\n",
    "\n",
    "This notebook is focused on this [particular problem](https://leetcode.com/explore/interview/card/top-interview-questions-easy/92/array/727/) on Leetcode, as part of the `Array` section of their [Top Interview Questions](https://leetcode.com/explore/interview/card/top-interview-questions-easy/) collection. \n",
    "\n",
    "### Directions (from Leetcode)\n",
    "\n",
    "Given a sorted array nums, remove the duplicates [in-place](https://en.wikipedia.org/wiki/In-place_algorithm) such that each element appear only once and return the new length.\n",
    "\n",
    "Do not allocate extra space for another array, you must do this by modifying the input array in-place with $O(1)$ extra memory.\n",
    "\n",
    "\n",
    "**Example 1**\n",
    "```\n",
    "Given nums = [1,1,2]\n",
    "\n",
    "Your function should return length = 2, with the first two elements of nums being 1 and 2 respectively.\n",
    "\n",
    "It doesn't matter what you leave beyond the returned length.\n",
    "```\n",
    "\n",
    "**Example 2**\n",
    "```\n",
    "Given nums = [0,0,1,1,1,2,2,3,3,4]\n",
    "\n",
    "Your function should return length = 5, with the first five elements of nums being modified to 0, 1, 2, 3, and 4 respectively.\n",
    "\n",
    "It doesn't matter what values are set beyond the returned length.\n",
    "```"
   ]
  },
  {
   "cell_type": "code",
   "execution_count": 2,
   "metadata": {},
   "outputs": [],
   "source": [
    "# solution 1\n",
    "class Solution:\n",
    "    def remove_duplicates(self, nums):\n",
    "        '''\n",
    "        nums: List[int]\n",
    "        rtype: int\n",
    "        '''\n",
    "        len_ = 1\n",
    "        if len(nums) == 0:\n",
    "            return 0\n",
    "        for i in range(1, len(nums)):\n",
    "            if nums[i] != nums[i-1]:\n",
    "                nums[len_] = nums[i]\n",
    "                len_ += 1\n",
    "        return len_"
   ]
  },
  {
   "cell_type": "code",
   "execution_count": 6,
   "metadata": {},
   "outputs": [
    {
     "name": "stdout",
     "output_type": "stream",
     "text": [
      "Test 1 correct? True, (value = 2)\n",
      "Test 2 correct? True, (value = 5)\n"
     ]
    }
   ],
   "source": [
    "# create test cases\n",
    "nums1 = [1, 1, 2]\n",
    "nums2 = [0, 0, 1, 1, 1, 2, 2, 3, 3, 4]\n",
    "\n",
    "# init class Solution\n",
    "solution = Solution()\n",
    "\n",
    "# test on lists above\n",
    "test1 = solution.remove_duplicates(nums1)\n",
    "test2 = solution.remove_duplicates(nums2)\n",
    "\n",
    "print(f'Test 1 correct? {2 == test1}, (value = {test1})')\n",
    "print(f'Test 2 correct? {5 == test2}, (value = {test2})')"
   ]
  },
  {
   "cell_type": "markdown",
   "metadata": {},
   "source": [
    "### _Explanation for Solution 1_\n",
    "\n",
    "Upon submitting the above code into Leetcode, it returned the status of `Accepted`, signifying that at least for Leetcode's test cases, my function passed. But let's look further into what it does to better understand why it worked. \n",
    "\n",
    "The first thing we do is create a variable called `len_` and initialize it to `1`. What `len_` does is essentially act as a index reference, which I'll explain further in a little bit. After initializing `len_` we then check the length of `nums`, which is a list of integers. If its length is 0, than we're going to return 0. In a sense, this just prevents us from doing any unnecessary work.\n",
    "\n",
    "The next step is to create a for loop, which will loop from `1` to $n$, with $n$ in this case representing the length of the input `nums`. Remember, whenever we call `len()` on a list, it is not 0 indexed! It returns the actual length of the list! To present a more concrete example, imagine the length of the English alphabet. We know if it 26 characters long. So let's say we have a list - let's call it `alphabet` - that stores each of these 26 characters as a value. Now `alphabet` starts as index 0, so `a` is going to have an index of 0, `b` will have an index of 1, and so on. This means that the index of `z` is going to be 25. So the range of values that the index of `alphabet` takes is 0-25. \n",
    "\n",
    "Now if we call length on `alphabet` - `len(alphabet)` - it doesn't care about the index. It answers the question: how many things does this list contain? Now we know that the alphabet is 26 characters, so naturally `len()` is going to return a value of 26, which is different than the last index (i.e. 25) of `alphabet`. Now why is this relevant? Because we need to make sure `i` takes a value for each value within the list; we don't want to stop too early or too late. \n",
    "\n",
    "If you take a look at `range()`, the first value is `1`, which indicates range will create an iterable where the first value is `1`. It is going to increment by one until it creates an iterable that takes values from `1` to whatever `len(nums)` is. It is important to remember that when we use `range` this last value - which in this case corresponds to `len(nums)` - **is not included**. What this means is that `i` will keep incrementing right up until it is the value right before `len(nums)` and stops there, so it never takes that value. But now remember how `len()` was one higher than the last index value of `alphabet`? This works to our advantage here because our `range` iterable will take a value one higher than the last index of whatever `nums` list we are passing in. But because this last value isn't included in the loop, our for loop will only go up to the value of the last index, which is what we need!\n",
    "\n",
    "Ok, `range` detour over. Sometimes I struggle with correct indexing so I figured it would be a good idea to review that before moving on. Ok so now that we're in our for loop, what we going to do is compare the value at index `i` with the previous value, which is at index `i-1`. If they are not equal (i.e. they are not duplicates), the value at `i` will be placed at the index of whatver value `len_` happens to be at that point in the loop. Now remember how I mentioned earlier that `len_` was essentially serving as a reference to an index? Well now you can see how it is being utilized! Notice after the assignment, we then increment `len_` by one, which corresponds to the next index in our `nums` list. \n",
    "\n",
    "Now, what happens if the values at `i` and `i-1` are the same? It's pretty simple; we don't do the assignment or `len_` increment because that represents the case where there is a duplicate. We move on, and increment `i` and check the next value in `nums`. We repeat this process until all the duplicates have been removed from `nums`!"
   ]
  }
 ],
 "metadata": {
  "kernelspec": {
   "display_name": "Python 3",
   "language": "python",
   "name": "python3"
  },
  "language_info": {
   "codemirror_mode": {
    "name": "ipython",
    "version": 3
   },
   "file_extension": ".py",
   "mimetype": "text/x-python",
   "name": "python",
   "nbconvert_exporter": "python",
   "pygments_lexer": "ipython3",
   "version": "3.6.10"
  }
 },
 "nbformat": 4,
 "nbformat_minor": 4
}
