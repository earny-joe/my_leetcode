{
 "cells": [
  {
   "cell_type": "markdown",
   "metadata": {},
   "source": [
    "# _LeetCode: Two Sum_\n",
    "\n",
    "[Two Sum](https://leetcode.com/problems/two-sum/) question from Leetcode's _Problems_ section, where questions were tagged as [_Hash Table_](https://leetcode.com/tag/hash-table/) problems.\n",
    "\n",
    "**Summary**: Given an array of integers, return indices of the two numbers such that they add up to a sepcific target.\n",
    "\n",
    "You may assume that each input would have exactly one solution, and you may not use the same element twice. \n",
    "\n",
    "**Example 1**\n",
    "```\n",
    "Given nums = [2, 7, 11, 15] \n",
    "target = 9\n",
    "\n",
    "Because nums[0] + nums[1] = 2 + 7 = 9\n",
    "return [0, 1]\n",
    "```"
   ]
  },
  {
   "cell_type": "markdown",
   "metadata": {},
   "source": [
    "## _Trial One_"
   ]
  },
  {
   "cell_type": "code",
   "execution_count": 11,
   "metadata": {},
   "outputs": [],
   "source": [
    "class Solution:\n",
    "    def two_sum(self, nums, target):\n",
    "        left_point = 0\n",
    "        right_point = len(nums) - 1\n",
    "        \n",
    "        while left_point < right_point:\n",
    "            if nums[left_point] + nums[right_point] == target:\n",
    "                return [left_point, right_point]\n",
    "            elif nums[left_point] + nums[right_point] > target:\n",
    "                right_point -= 1\n",
    "            elif nums[left_point] + nums[right_point] < target:\n",
    "                left_point += 1"
   ]
  },
  {
   "cell_type": "code",
   "execution_count": 12,
   "metadata": {},
   "outputs": [
    {
     "data": {
      "text/plain": [
       "[0, 1]"
      ]
     },
     "execution_count": 12,
     "metadata": {},
     "output_type": "execute_result"
    }
   ],
   "source": [
    "nums = [2, 7, 11, 15]\n",
    "target = 9\n",
    "\n",
    "\n",
    "solution = Solution()\n",
    "solution.two_sum(nums, target)"
   ]
  },
  {
   "cell_type": "markdown",
   "metadata": {},
   "source": [
    "## _Interpretation_\n",
    "\n",
    "The algorithm above uses a two-pointer approach to try and solve the problem. There is one issue though that I ran into when I ran the code on LeetCode: the list of integers are not always sorted. We could technically sort them, but remember, we are trying to return the _indexes_ of the numbers so we would also need some way to keep track of the numbers original index before the list was sorted. In summary, this first algorithm failed to answer the problem statement. Let us now move onto developing another algorithm that correctly answers the problem. "
   ]
  },
  {
   "cell_type": "markdown",
   "metadata": {},
   "source": [
    "## _Trial 2_"
   ]
  },
  {
   "cell_type": "code",
   "execution_count": 22,
   "metadata": {},
   "outputs": [],
   "source": [
    "class Solution:\n",
    "    def two_sum(self, nums, target):\n",
    "        val_dict = {} # O(1)\n",
    "        \n",
    "        for i in range(len(nums)): # O(n)\n",
    "            value = target - nums[i] # O(1)\n",
    "            if value not in val_dict: # O(1)\n",
    "                val_dict[nums[i]] = i # O(1)\n",
    "            elif value in val_dict: # O(1)\n",
    "                return [val_dict[value], i] # O(1)"
   ]
  },
  {
   "cell_type": "code",
   "execution_count": 23,
   "metadata": {},
   "outputs": [
    {
     "data": {
      "text/plain": [
       "[2, 4]"
      ]
     },
     "execution_count": 23,
     "metadata": {},
     "output_type": "execute_result"
    }
   ],
   "source": [
    "solution = Solution()\n",
    "solution.two_sum(nums, target)"
   ]
  },
  {
   "cell_type": "code",
   "execution_count": 24,
   "metadata": {},
   "outputs": [
    {
     "data": {
      "text/plain": [
       "[2, 4]"
      ]
     },
     "execution_count": 24,
     "metadata": {},
     "output_type": "execute_result"
    }
   ],
   "source": [
    "nums = [2, 7, 11, 15, 99]\n",
    "target = 110\n",
    "\n",
    "solution.two_sum(nums, target)"
   ]
  },
  {
   "cell_type": "markdown",
   "metadata": {},
   "source": [
    "## _Interpretation: Trial 2_\n",
    "\n",
    "Firstly, this approach actually uses a dictionary to solve the problem, which is supposed to be the focus of the notebook (and that I didn't use in the first trial). Secondly, this algorithm works! So let's walk through it now to better understand what is going on.\n",
    "\n",
    "We begin by initializing an empty dictionary named `sum_dict`, which will be used to store the various differences between our `target` variable and the $ith$ number in `nums`. We then instantiate a `for` loop that'll go through all the numbers within `nums`. If the difference - i.e., `value` - is not in `val_dict`, the number at `nums[i]` will be stored as a key within `val_dict`, while the index will be stored as a respective value. If `value` is in `val_dict` already, we have successfully found the yin-and-yang values that'll add up to our `target` variable. As a result, we will return a list object, containing the value at the key `value` within `val_dict` (which is the index value for that respective number) and `i`, which is the index of the current number in `nums`.\n",
    "\n",
    "**Time Complexity**: $O(n)$ --> since we are looping through all the numbers with `nums` and all the other functions that take place within the `for` loop are constant.\n",
    "\n",
    "**Space Complexity**: $O(n)$ --> we are storing an extra dictionary with $n$ numbers from `nums`"
   ]
  }
 ],
 "metadata": {
  "kernelspec": {
   "display_name": "Python 3",
   "language": "python",
   "name": "python3"
  },
  "language_info": {
   "codemirror_mode": {
    "name": "ipython",
    "version": 3
   },
   "file_extension": ".py",
   "mimetype": "text/x-python",
   "name": "python",
   "nbconvert_exporter": "python",
   "pygments_lexer": "ipython3",
   "version": "3.8.3"
  }
 },
 "nbformat": 4,
 "nbformat_minor": 4
}
