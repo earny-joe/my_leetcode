{
 "cells": [
  {
   "cell_type": "markdown",
   "metadata": {},
   "source": [
    "# Article: [_All You Need to Know About Big O Notation - Python Examples_](https://skerritt.blog/big-o/)\n",
    "\n",
    "This notebook follows along with Brandon Skerritt's article - _All You Need to Know About Big O Notation [Python Examples]_ - from his blog, [skerritt.blog](https://skerritt.blog/). \n",
    "\n",
    "It will include content from the blog, and potentially extra work on the side that I may do to better cement a particular concept. Whenever this happens, I'll be sure to make note of it.\n",
    "\n",
    "## _What is Big O Notation?_\n",
    "\n",
    "- Big O --> formal notation describing behavior of function when argument tends towards maximum input\n",
    "    - takes the upper bound, i.e., the worst-case results in the worst execution of the algorithm\n",
    "    \n",
    "### _The Big O Notation's Order of Growth_\n",
    "\n",
    "**Constant**: $O(1)$\n",
    "\n",
    "**Logarithm**: $O(log n)$\n",
    "\n",
    "**Linear**: $O(n)$\n",
    "\n",
    "**Polynomial**: $O(n^2)$, $O(n^3)$, $O(n^x)$\n",
    "\n",
    "**Exponential**: $O(2^n)$\n",
    "\n",
    "- the further to the right, the longer the algorithm takes\n",
    "- there are other time-measuring notations\n",
    "    - Big Omega (best case)\n",
    "    - Big Theta (average case)\n",
    "\n",
    "## _Constant Time_\n",
    "\n",
    "- do not scale with input size --> are constant no batter how big the input"
   ]
  },
  {
   "cell_type": "code",
   "execution_count": 1,
   "metadata": {},
   "outputs": [],
   "source": [
    "# example of constant time algorithm\n",
    "def odd_or_even(n):\n",
    "    return 'Even' if n % 2 else 'Odd'"
   ]
  },
  {
   "cell_type": "code",
   "execution_count": 3,
   "metadata": {},
   "outputs": [
    {
     "name": "stdout",
     "output_type": "stream",
     "text": [
      "158 ns ± 4.41 ns per loop (mean ± std. dev. of 7 runs, 10000000 loops each)\n"
     ]
    }
   ],
   "source": [
    "%timeit odd_or_even(5)"
   ]
  },
  {
   "cell_type": "markdown",
   "metadata": {},
   "source": [
    "## _Logarithmic Time_\n",
    "\n",
    "- a logarithmic algorithm halves the list every time it's run\n",
    "- let's look at it using binary search"
   ]
  },
  {
   "cell_type": "code",
   "execution_count": 4,
   "metadata": {},
   "outputs": [],
   "source": [
    "# given sorted list, we want to find number 2\n",
    "a = [1, 2, 3, 4, 5, 6 , 7, 8, 9, 10]"
   ]
  },
  {
   "cell_type": "code",
   "execution_count": 5,
   "metadata": {},
   "outputs": [],
   "source": [
    "# implement binary search\n",
    "def binary_search(sorted_list, item):\n",
    "    \"\"\"\n",
    "    Given a sorted-list, and an item to find, uses binary search \n",
    "    to see if item is in list.\n",
    "    \"\"\"\n",
    "    first = 0\n",
    "    last = len(sorted_list) - 1\n",
    "    found = False\n",
    "    \n",
    "    while first <= last and not found:\n",
    "        midpoint = (first + last) // 2 # go to middle of list\n",
    "        if sorted_list[midpoint] == item: # check to see if element is answer\n",
    "            found = True # if true, assign True to found variable\n",
    "        else:\n",
    "            # if not, check to see if element is more than item we want to find\n",
    "            if item < sorted_list[midpoint]:\n",
    "                # if it is, ignore right hand side (numbers higher than midpoint)\n",
    "                last = midpoint - 1\n",
    "            else:\n",
    "                first = midpoint + 1\n",
    "    \n",
    "    return found"
   ]
  },
  {
   "cell_type": "markdown",
   "metadata": {},
   "source": [
    "- let's review what the algorithm above does\n",
    "    - go to middle of the list\n",
    "    - check to see if that element is the answer\n",
    "    - if not, check to see if that element is more than the item we want to find\n",
    "    - if it is, ignore the right-hand side (all numbers higher than midpoint) of the list and choose a new midpoint\n",
    "    - start over again, by finding midpoint in the new list\n",
    "- algorithm halves the input every single time it iterates --> therefore it is logarithmic!\n",
    "\n",
    "## _Linear Time_\n",
    "\n",
    "- means that every single element from the input is visited exactly once\n",
    "    - as size of $n$ grows, algorithm's run time scales exactly with size of input\n",
    "- in worst-case scenario, every single item in a list is visited"
   ]
  },
  {
   "cell_type": "code",
   "execution_count": 6,
   "metadata": {},
   "outputs": [
    {
     "name": "stdout",
     "output_type": "stream",
     "text": [
      "bread\n",
      "butter\n",
      "apples\n",
      "oranges\n",
      "chicken\n"
     ]
    }
   ],
   "source": [
    "# shopping list example --> O(n) time complexity\n",
    "shopping_list = ['bread', 'butter', 'apples', 'oranges', 'chicken']\n",
    "\n",
    "for item in shopping_list:\n",
    "    print(item)"
   ]
  },
  {
   "cell_type": "code",
   "execution_count": 8,
   "metadata": {},
   "outputs": [
    {
     "name": "stdout",
     "output_type": "stream",
     "text": [
      "2\n",
      "121\n"
     ]
    }
   ],
   "source": [
    "# another example --> largest item of an unsorted array\n",
    "a = [2, 16, 7, 9, 8, 23, 121]\n",
    "\n",
    "max_item = a[0]\n",
    "print(max_item)\n",
    "\n",
    "for item in a:\n",
    "    if item > max_item:\n",
    "        max_item = item\n",
    "\n",
    "print(max_item)"
   ]
  },
  {
   "cell_type": "markdown",
   "metadata": {},
   "source": [
    "## _Polynomial Time_\n",
    "\n",
    "- polynomial function looks like $n^2$, $n^3$ and so on\n",
    "- if one loop through list is $O(n)$ --> 2 loops will be $O(n^2)$"
   ]
  },
  {
   "cell_type": "code",
   "execution_count": 11,
   "metadata": {},
   "outputs": [
    {
     "name": "stdout",
     "output_type": "stream",
     "text": [
      "00\n",
      "01\n",
      "02\n",
      "03\n",
      "04\n",
      "05\n",
      "06\n",
      "07\n",
      "08\n",
      "09\n",
      "010\n",
      "10\n",
      "11\n",
      "12\n",
      "13\n",
      "14\n",
      "15\n",
      "16\n",
      "17\n",
      "18\n",
      "19\n",
      "110\n",
      "20\n",
      "21\n",
      "22\n",
      "23\n",
      "24\n",
      "25\n",
      "26\n",
      "27\n",
      "28\n",
      "29\n",
      "210\n",
      "30\n",
      "31\n",
      "32\n",
      "33\n",
      "34\n",
      "35\n",
      "36\n",
      "37\n",
      "38\n",
      "39\n",
      "310\n",
      "40\n",
      "41\n",
      "42\n",
      "43\n",
      "44\n",
      "45\n",
      "46\n",
      "47\n",
      "48\n",
      "49\n",
      "410\n",
      "50\n",
      "51\n",
      "52\n",
      "53\n",
      "54\n",
      "55\n",
      "56\n",
      "57\n",
      "58\n",
      "59\n",
      "510\n",
      "60\n",
      "61\n",
      "62\n",
      "63\n",
      "64\n",
      "65\n",
      "66\n",
      "67\n",
      "68\n",
      "69\n",
      "610\n",
      "70\n",
      "71\n",
      "72\n",
      "73\n",
      "74\n",
      "75\n",
      "76\n",
      "77\n",
      "78\n",
      "79\n",
      "710\n",
      "80\n",
      "81\n",
      "82\n",
      "83\n",
      "84\n",
      "85\n",
      "86\n",
      "87\n",
      "88\n",
      "89\n",
      "810\n",
      "90\n",
      "91\n",
      "92\n",
      "93\n",
      "94\n",
      "95\n",
      "96\n",
      "97\n",
      "98\n",
      "99\n",
      "910\n",
      "100\n",
      "101\n",
      "102\n",
      "103\n",
      "104\n",
      "105\n",
      "106\n",
      "107\n",
      "108\n",
      "109\n",
      "1010\n"
     ]
    }
   ],
   "source": [
    "# example of polynomial time --> double for loop\n",
    "a = list(range(0, 11))\n",
    "\n",
    "for i in a:\n",
    "    for x in a:\n",
    "        print(f'{i}{x}')"
   ]
  },
  {
   "cell_type": "markdown",
   "metadata": {},
   "source": [
    "- bubble sort is good example of an $O(n^2)$ algorithm\n",
    "    - takes first number and swaps it with adjacent number if they are in wrong order\n",
    "    - does this for each number --> until all numbers are in the right order"
   ]
  },
  {
   "cell_type": "code",
   "execution_count": 13,
   "metadata": {},
   "outputs": [
    {
     "name": "stdout",
     "output_type": "stream",
     "text": [
      "[11, 12, 22, 25, 34, 64, 90]\n"
     ]
    }
   ],
   "source": [
    "# bubble sort function\n",
    "def bubble_sort(arr):\n",
    "    \"\"\"\n",
    "    Sorts an input array with bubble sort.\n",
    "    \"\"\"\n",
    "    n = len(arr)\n",
    "    \n",
    "    # traverse through all array elements\n",
    "    for i in range(n):\n",
    "        \n",
    "        # last i elements are already in place\n",
    "        for j in range(0, n-i-1):\n",
    "            \n",
    "            # traverse the array from 0 to n-i-1\n",
    "            # swap if the element found is greater than next element\n",
    "            if arr[j] > arr[j+1]:\n",
    "                arr[j], arr[j+1] = arr[j+1], arr[j]\n",
    "                \n",
    "                \n",
    "arr = [64, 34, 25, 12, 22, 11, 90]\n",
    "\n",
    "bubble_sort(arr)\n",
    "print(arr)"
   ]
  },
  {
   "cell_type": "markdown",
   "metadata": {},
   "source": [
    "- with large time complexities, often show us that something can be quickened\n",
    "- another example: given a sentence, how many of those words appear in the English dictionary?\n",
    "    - can imagine two for loops --> one through the sentence, another through the dictionary"
   ]
  },
  {
   "cell_type": "code",
   "execution_count": 17,
   "metadata": {},
   "outputs": [
    {
     "name": "stdout",
     "output_type": "stream",
     "text": [
      "['hello', 'joe', 'machine', 'my', 'name']\n",
      "5\n"
     ]
    }
   ],
   "source": [
    "dictionary = sorted(['hello', 'my', 'name', 'joe', 'machine'])\n",
    "print(dictionary)\n",
    "sentence = 'hello alsdf my name alksjdhfa joe aasdc sdf machine'.split(' ')\n",
    "\n",
    "counter = 0\n",
    "for word in sentence:\n",
    "    for item in dictionary:\n",
    "        if word == item:\n",
    "            counter += 1\n",
    "            \n",
    "print(counter)"
   ]
  },
  {
   "cell_type": "markdown",
   "metadata": {},
   "source": [
    "- we can speed this up\n",
    "    - dictionaries are sorted by default --> what if we sort list of words in sentence and then checked each word\n",
    "        - only need to loop through dicitonary once\n",
    "        \n",
    "## _Exponential Time_\n",
    "\n",
    "- slowest of them all\n",
    "- example: say we have a password consisting only of numbers (10 numbers, 0 through 9)\n",
    "    - we want to crack a password which has a length of n\n",
    "    - to brutefore it we have to work through $10^n$ combinations\n",
    "- one example of exponential time --> find all subsets of a set"
   ]
  },
  {
   "cell_type": "code",
   "execution_count": 18,
   "metadata": {},
   "outputs": [],
   "source": [
    "from itertools import chain, combinations\n",
    "\n",
    "def subsets(iterable):\n",
    "    s = list(iterable)\n",
    "    return chain.from_iterable(combinations(s, r) for r in range(len(s) + 1))"
   ]
  },
  {
   "cell_type": "code",
   "execution_count": 26,
   "metadata": {},
   "outputs": [
    {
     "name": "stdout",
     "output_type": "stream",
     "text": [
      "[(), ('',)]\n",
      "[(), ('x',)]\n",
      "[(), ('a',), ('b',), ('a', 'b')]\n"
     ]
    }
   ],
   "source": [
    "print(list(subsets([''])))\n",
    "print(list(subsets(['x'])))\n",
    "print(list(subsets(['a', 'b'])))"
   ]
  },
  {
   "cell_type": "markdown",
   "metadata": {},
   "source": [
    "## CONTINUE @ _Simplifying Big O notation_"
   ]
  }
 ],
 "metadata": {
  "kernelspec": {
   "display_name": "Python 3",
   "language": "python",
   "name": "python3"
  },
  "language_info": {
   "codemirror_mode": {
    "name": "ipython",
    "version": 3
   },
   "file_extension": ".py",
   "mimetype": "text/x-python",
   "name": "python",
   "nbconvert_exporter": "python",
   "pygments_lexer": "ipython3",
   "version": "3.8.3"
  }
 },
 "nbformat": 4,
 "nbformat_minor": 4
}
